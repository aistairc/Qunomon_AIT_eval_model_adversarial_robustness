{
 "cells": [
  {
   "cell_type": "markdown",
   "metadata": {
    "deletable": false,
    "editable": false
   },
   "source": [
    "# AIT Development notebook"
   ]
  },
  {
   "cell_type": "markdown",
   "metadata": {
    "deletable": false,
    "editable": false
   },
   "source": [
    "## notebook of structure"
   ]
  },
  {
   "cell_type": "markdown",
   "metadata": {
    "deletable": false,
    "editable": false
   },
   "source": [
    "| #  | Name                                               | cells | for_dev | edit               | description                                                                |\n",
    "|----|----------------------------------------------------|-------|---------|--------------------|----------------------------------------------------------------------------|\n",
    "| 1  | [Environment detection](##1-Environment-detection) | 1     | No      | uneditable         | detect whether the notebook are invoked for packaging or in production     |\n",
    "| 2  | [Preparing AIT SDK](##2-Preparing-AIT-SDK)         | 1     | Yes     | uneditable         | download and install AIT SDK                                               |\n",
    "| 3  | [Dependency Management](##3-Dependency-Management) | 3     | Yes     | required(cell #2)  | generate requirements.txt for Docker container                             |\n",
    "| 4  | [Importing Libraries](##4-Importing-Libraries)     | 2     | Yes     | required(cell #1)  | import required libraries                                                  |\n",
    "| 5  | [Manifest Generation](##5-Manifest-Generation)     | 1     | Yes     | required           | generate AIT Manifest                                                      |\n",
    "| 6  | [Prepare for the Input](##6-Prepare-for-the-Input) | 1     | Yes     | required           | generate AIT Input JSON (inventory mapper)                                 |\n",
    "| 7  | [Initialization](##7-Initialization)               | 1     | No      | uneditable         | initialization for AIT execution                                           |\n",
    "| 8  | [Function definitions](##8-Function-definitions)   | N     | No      | required           | define functions invoked from Main area.<br> also define output functions. |\n",
    "| 9  | [Main Algorithms](##9-Main-Algorithms)             | 1     | No      | required           | area for main algorithms of an AIT                                         |\n",
    "| 10 | [Entry point](##10-Entry-point)                    | 1     | No      | uneditable         | an entry point where Qunomon invoke this AIT from here                     |\n",
    "| 11 | [License](##11-License)                            | 1     | Yes     | required           | generate license information                                               |\n",
    "| 12 | [Deployment](##12-Deployment)                      | 1     | Yes     | uneditable         | convert this notebook to the python file for packaging purpose             |"
   ]
  },
  {
   "cell_type": "markdown",
   "metadata": {
    "deletable": false,
    "editable": false
   },
   "source": [
    "## notebook template revision history"
   ]
  },
  {
   "cell_type": "markdown",
   "metadata": {
    "deletable": false,
    "editable": false
   },
   "source": [
    "1.0.1 2020/10/21\n",
    "\n",
    "* add revision history\n",
    "* separate `create requirements and pip install` editable and noeditable\n",
    "* separate `import` editable and noeditable\n",
    "\n",
    "1.0.0 2020/10/12\n",
    "\n",
    "* new cerarion"
   ]
  },
  {
   "cell_type": "markdown",
   "metadata": {
    "deletable": false,
    "editable": false
   },
   "source": [
    "## body"
   ]
  },
  {
   "cell_type": "markdown",
   "metadata": {
    "deletable": false,
    "editable": false
   },
   "source": [
    "### #1 Environment detection"
   ]
  },
  {
   "cell_type": "markdown",
   "metadata": {
    "deletable": false,
    "editable": false
   },
   "source": [
    "[uneditable]"
   ]
  },
  {
   "cell_type": "code",
   "execution_count": 1,
   "metadata": {
    "deletable": false,
    "editable": false
   },
   "outputs": [],
   "source": [
    "# Determine whether to start AIT or jupyter by startup argument\n",
    "import sys\n",
    "is_ait_launch = (len(sys.argv) == 2)"
   ]
  },
  {
   "cell_type": "markdown",
   "metadata": {
    "deletable": false,
    "editable": false
   },
   "source": [
    "### #2 Preparing AIT SDK"
   ]
  },
  {
   "cell_type": "markdown",
   "metadata": {
    "deletable": false,
    "editable": false
   },
   "source": [
    "[uneditable]"
   ]
  },
  {
   "cell_type": "code",
   "execution_count": 2,
   "metadata": {
    "deletable": false,
    "editable": false
   },
   "outputs": [
    {
     "name": "stdout",
     "output_type": "stream",
     "text": [
      "\u001b[33mWARNING: Running pip as the 'root' user can result in broken permissions and conflicting behaviour with the system package manager, possibly rendering your system unusable. It is recommended to use a virtual environment instead: https://pip.pypa.io/warnings/venv. Use the --root-user-action option if you know what you are doing and want to suppress this warning.\u001b[0m\u001b[33m\n",
      "\u001b[0m\u001b[33mWARNING: Running pip as the 'root' user can result in broken permissions and conflicting behaviour with the system package manager, possibly rendering your system unusable. It is recommended to use a virtual environment instead: https://pip.pypa.io/warnings/venv. Use the --root-user-action option if you know what you are doing and want to suppress this warning.\u001b[0m\u001b[33m\n",
      "\u001b[0m"
     ]
    }
   ],
   "source": [
    "if not is_ait_launch:\n",
    "    # get ait-sdk file name\n",
    "    from pathlib import Path\n",
    "    from glob import glob\n",
    "    import re\n",
    "    import os\n",
    "\n",
    "    current_dir = %pwd\n",
    "\n",
    "    ait_sdk_path = \"./ait_sdk-*-py3-none-any.whl\"\n",
    "    ait_sdk_list = glob(ait_sdk_path)\n",
    "    ait_sdk_name = os.path.basename(ait_sdk_list[-1])\n",
    "\n",
    "    # install ait-sdk\n",
    "    !pip install -q --upgrade pip\n",
    "    !pip install -q --no-deps --force-reinstall ./$ait_sdk_name"
   ]
  },
  {
   "cell_type": "markdown",
   "metadata": {
    "deletable": false,
    "editable": false
   },
   "source": [
    "### #3 Dependency Management"
   ]
  },
  {
   "cell_type": "markdown",
   "metadata": {
    "deletable": false,
    "editable": false
   },
   "source": [
    "#### #3-1 [uneditable]"
   ]
  },
  {
   "cell_type": "code",
   "execution_count": 3,
   "metadata": {
    "deletable": false,
    "editable": false
   },
   "outputs": [],
   "source": [
    "if not is_ait_launch:\n",
    "    from ait_sdk.common.files.ait_requirements_generator import AITRequirementsGenerator\n",
    "    requirements_generator = AITRequirementsGenerator()"
   ]
  },
  {
   "cell_type": "markdown",
   "metadata": {
    "deletable": false,
    "editable": false
   },
   "source": [
    "#### #3-2 [required]"
   ]
  },
  {
   "cell_type": "code",
   "execution_count": 4,
   "metadata": {},
   "outputs": [],
   "source": [
    "if not is_ait_launch:\n",
    "    requirements_generator.add_package('adversarial-robustness-toolbox', '1.19.0')\n",
    "    requirements_generator.add_package('numpy','1.26.4')\n",
    "    requirements_generator.add_package('h5py','3.12.1')\n",
    "    requirements_generator.add_package('torch','2.5.1')\n",
    "    requirements_generator.add_package('matplotlib','3.9.4')\n",
    "    requirements_generator.add_package('pandas','2.2.3')"
   ]
  },
  {
   "cell_type": "markdown",
   "metadata": {
    "deletable": false,
    "editable": false
   },
   "source": [
    "#### #3-3 [uneditable]"
   ]
  },
  {
   "cell_type": "code",
   "execution_count": 5,
   "metadata": {
    "deletable": false,
    "editable": false
   },
   "outputs": [
    {
     "name": "stdout",
     "output_type": "stream",
     "text": [
      "\u001b[33mWARNING: Running pip as the 'root' user can result in broken permissions and conflicting behaviour with the system package manager, possibly rendering your system unusable. It is recommended to use a virtual environment instead: https://pip.pypa.io/warnings/venv. Use the --root-user-action option if you know what you are doing and want to suppress this warning.\u001b[0m\u001b[33m\n",
      "\u001b[0m"
     ]
    }
   ],
   "source": [
    "if not is_ait_launch:\n",
    "    requirements_generator.add_package(f'./{ait_sdk_name}')\n",
    "    requirements_path = requirements_generator.create_requirements(current_dir)\n",
    "\n",
    "    !pip install -q -r $requirements_path "
   ]
  },
  {
   "cell_type": "markdown",
   "metadata": {
    "deletable": false,
    "editable": false
   },
   "source": [
    "### #4 Importing Libraries"
   ]
  },
  {
   "cell_type": "markdown",
   "metadata": {
    "deletable": false,
    "editable": false
   },
   "source": [
    "#### #4-1 [required]"
   ]
  },
  {
   "cell_type": "code",
   "execution_count": 6,
   "metadata": {},
   "outputs": [
    {
     "name": "stderr",
     "output_type": "stream",
     "text": [
      "/usr/local/lib/python3.9/site-packages/tqdm/auto.py:21: TqdmWarning: IProgress not found. Please update jupyter and ipywidgets. See https://ipywidgets.readthedocs.io/en/stable/user_install.html\n",
      "  from .autonotebook import tqdm as notebook_tqdm\n"
     ]
    }
   ],
   "source": [
    "# import if you need modules cell\n",
    "\n",
    "from art.attacks.evasion import SquareAttack\n",
    "from art.attacks.evasion import FastGradientMethod\n",
    "from art.estimators.classification import PyTorchClassifier\n",
    "from art.estimators.regression import PyTorchRegressor\n",
    "import pandas as pd\n",
    "import matplotlib.pyplot as plt\n",
    "import torch\n",
    "import torch.nn as nn\n",
    "import torch.optim as optim\n",
    "import torch.nn.functional as F\n",
    "import numpy as np\n",
    "import h5py\n",
    "import math"
   ]
  },
  {
   "cell_type": "markdown",
   "metadata": {
    "deletable": false,
    "editable": false
   },
   "source": [
    "#### #4-2 [uneditable]"
   ]
  },
  {
   "cell_type": "code",
   "execution_count": 7,
   "metadata": {
    "deletable": false,
    "editable": false
   },
   "outputs": [],
   "source": [
    "# must use modules\n",
    "from os import path\n",
    "import shutil  # do not remove\n",
    "from ait_sdk.common.files.ait_input import AITInput  # do not remove\n",
    "from ait_sdk.common.files.ait_output import AITOutput  # do not remove\n",
    "from ait_sdk.common.files.ait_manifest import AITManifest  # do not remove\n",
    "from ait_sdk.develop.ait_path_helper import AITPathHelper  # do not remove\n",
    "from ait_sdk.utils.logging import get_logger, log, get_log_path  # do not remove\n",
    "from ait_sdk.develop.annotation import measures, resources, downloads, ait_main  # do not remove\n",
    "# must use modules"
   ]
  },
  {
   "cell_type": "markdown",
   "metadata": {
    "deletable": false,
    "editable": false
   },
   "source": [
    "### #5 Manifest Generation"
   ]
  },
  {
   "cell_type": "markdown",
   "metadata": {
    "deletable": false,
    "editable": false
   },
   "source": [
    "[required]"
   ]
  },
  {
   "cell_type": "code",
   "execution_count": 8,
   "metadata": {},
   "outputs": [],
   "source": [
    "if not is_ait_launch:\n",
    "    from ait_sdk.common.files.ait_manifest_generator import AITManifestGenerator\n",
    "    manifest_genenerator = AITManifestGenerator(current_dir)\n",
    "    manifest_genenerator.set_ait_name('eval_model_adversarial_robustness')\n",
    "    manifest_genenerator.set_ait_description('深層学習モデルに対して、入力データに摂動を加え敵対的データを距離尺度の制約下で生成し、摂動に対する強度と予測性能の変化を評価して頑強性を測定する。分類モデルの場合、各クラスごとの入力画像データに摂動を加え敵対的データを生成する。攻撃手法はSquare Attackを使用する。また、回帰モデルの場合、入力テーブルデータに摂動を加え敵対的データを生成する。攻撃手法はFastGradientMethodを使用する。')\n",
    "    manifest_genenerator.set_ait_source_repository('https://github.com/aistairc/Qunomon_AIT_eval_model_adversarial_robustness')\n",
    "    manifest_genenerator.set_ait_version('1.2')\n",
    "    manifest_genenerator.add_ait_licenses('Apache License Version 2.0')\n",
    "    manifest_genenerator.add_ait_keywords('Robustness')\n",
    "    manifest_genenerator.add_ait_keywords('Adversarial')\n",
    "    manifest_genenerator.add_ait_keywords('Empirical')\n",
    "    manifest_genenerator.add_ait_keywords('image')\n",
    "    manifest_genenerator.add_ait_keywords('table')\n",
    "    manifest_genenerator.set_ait_quality('https://ait-hub.pj.aist.go.jp/ait-hub/api/0.0.1/qualityDimensions/機械学習品質マネジメントガイドライン第三版/C-2機械学習モデルの安定性')\n",
    "    #### Inventories\n",
    "    inventory_requirement_dataset = manifest_genenerator.format_ait_inventory_requirement(format_=['*'])\n",
    "    manifest_genenerator.add_ait_inventories(name='input_dataset',  \n",
    "                                             type_='dataset', \n",
    "                                             description='分類モデルの場合、HDF5形式のデータセット。内部は2つのHDF5ファイルを用意する(ファイル名は任意)\\n(1)モデルに入力される、[-1,1]に正規化されている多次元配列を含むデータセット\\n(2)データの各サンプルの正解ラベル（クラスのインデックス値）を含むデータセット\\n\\nファイル構造:\\n sample.h5\\n ├(1)入力データセット\\n └(2)ラベルデータセット\\n 回帰モデルの場合、CSV形式のデータセット。データセットの最後の列を正解ラベルとし、それ以外を特徴量とする。\\n',  \n",
    "                                             requirement= inventory_requirement_dataset)\n",
    "    inventory_requirement_trained_model = manifest_genenerator.format_ait_inventory_requirement(format_=['pth'])\n",
    "    manifest_genenerator.add_ait_inventories(name='trained_model',\n",
    "                                             type_='model',\n",
    "                                             description='torch.jit.save関数を使用しTorchScript形式で保存されたモデルデータ。入力と出力の要素数はinput_dataset inventoryと一致させる',\n",
    "                                             requirement=inventory_requirement_trained_model)\n",
    "    #### Parameters\n",
    "    manifest_genenerator.add_ait_parameters(name='data_type',\n",
    "                                            type_='str',\n",
    "                                            description='使用するデータセットの種類.[image]または[table]',\n",
    "                                            default_val='image')\n",
    "    manifest_genenerator.add_ait_parameters(name='image_dataset_name', \n",
    "                                            type_='str', \n",
    "                                            description='画像データを用いる場合の、input_dataset inventoryで説明されているデータセット(1)の名前', \n",
    "                                            default_val='image_name')\n",
    "    manifest_genenerator.add_ait_parameters(name='label_dataset_name', \n",
    "                                            type_='str', \n",
    "                                            description='画像データを用いる場合の、input_dataset inventoryで説明されているデータセット(2)の名前', \n",
    "                                            default_val='label_name')\n",
    "    manifest_genenerator.add_ait_parameters(name='dataset_channel',\n",
    "                                          type_='int',\n",
    "                                          default_val='1',\n",
    "                                          description='画像データを用いる場合の、input_dataset inventoryで説明されているデータセット(1)入力データセットのチャネル数(グレースケール画像の場合1、RGB画像の場合3)')\n",
    "    manifest_genenerator.add_ait_parameters(name='delta_lower',\n",
    "                                            type_='float',\n",
    "                                            description='敵対的摂動δの範囲の下限.敵対的摂動δの範囲の上限よりも小さくする.',\n",
    "                                            default_val='0',\n",
    "                                            min_value='0')\n",
    "    manifest_genenerator.add_ait_parameters(name='delta_upper',\n",
    "                                            type_='float',\n",
    "                                            description='敵対的摂動δの範囲の上限.敵対的摂動δの範囲の下限よりも大きくする.',\n",
    "                                            default_val='3',\n",
    "                                            max_value='10')\n",
    "    manifest_genenerator.add_ait_parameters(name='delta_increment',\n",
    "                                            type_='float',\n",
    "                                            description='敵対的摂動δの増加量',\n",
    "                                            default_val='0.1',                                            \n",
    "                                            min_value='0.01',\n",
    "                                            max_value='1')\n",
    "    manifest_genenerator.add_ait_parameters(name='norm',\n",
    "                                            type_='str',\n",
    "                                            description='制約に使用するノルムは次の３パターン.1の場合L1ノルム、2の場合L2ノルム、infの場合L∞ノルムを使用する',\n",
    "                                            default_val='2')                                         \n",
    "    manifest_genenerator.add_ait_parameters(name='epsilon',\n",
    "                                            type_='float',\n",
    "                                            description='各クラスのモデルの元のデータに対する予測確率と敵対的データに対する予測確率の差の許容範囲（0の場合、モデルの元のデータに対する予測と敵対的データに対する予測が一致しているかを判断する）',\n",
    "                                            default_val='0.2',\n",
    "                                            min_value='0',\n",
    "                                            max_value='1')\n",
    "    #### Measures\n",
    "    manifest_genenerator.add_ait_measures(name='Adversarial_Robustness',\n",
    "                                          type_='float',\n",
    "                                          structure='sequence',\n",
    "                                          description='敵対的摂動δの値を増加させたとき、（各クラスごとの）予測確率の差が許容範囲内もしくは予測が一致する最大のδの値を相対化した値.値が大きいほど頑強である.')\n",
    "    #### Resources\n",
    "    manifest_genenerator.add_ait_resources(name='Violation_Rate_Transition_Plot',\n",
    "                                         type_='picture', \n",
    "                                         description='敵対的摂動δの値を増加させたとき、各クラスごとのモデルの違反率（予測確率の差が許容範囲外もしくは予測が一致していない割合）の推移のプロット')\n",
    "    manifest_genenerator.add_ait_resources(name='Robustness_Variation_Plot',\n",
    "                                         type_='picture', \n",
    "                                         description='敵対的摂動δの値を増加させたとき、モデルの頑強性の推移のプロット')\n",
    "    #### Downloads\n",
    "    manifest_genenerator.add_ait_downloads(name='Log', \n",
    "                                           description='AIT実行ログ')\n",
    "    manifest_path = manifest_genenerator.write()"
   ]
  },
  {
   "cell_type": "markdown",
   "metadata": {
    "deletable": false,
    "editable": false
   },
   "source": [
    "### #6 Prepare for the Input"
   ]
  },
  {
   "cell_type": "markdown",
   "metadata": {
    "deletable": false,
    "editable": false
   },
   "source": [
    "[required]"
   ]
  },
  {
   "cell_type": "code",
   "execution_count": 9,
   "metadata": {},
   "outputs": [],
   "source": [
    "if not is_ait_launch:\n",
    "    from ait_sdk.common.files.ait_input_generator import AITInputGenerator\n",
    "    input_generator = AITInputGenerator(manifest_path)\n",
    "    \"\"\"\n",
    "    # imageデータを使用する場合\n",
    "    input_generator.add_ait_inventories(name='input_dataset',\n",
    "                                        value='mnist_data/aug_test.h5')\n",
    "    input_generator.add_ait_inventories(name='trained_model',\n",
    "                                        value='models/LeNet5_model.pth')\n",
    "    input_generator.set_ait_params(\"data_type\", \"image\")\n",
    "    input_generator.set_ait_params(\"image_dataset_name\", \"test_image\")\n",
    "    input_generator.set_ait_params(\"label_dataset_name\", \"test_label\")\n",
    "    input_generator.set_ait_params(\"delta_upper\", \"2\")\n",
    "    \"\"\"\n",
    "    # tableデータを使用する場合\n",
    "    input_generator.add_ait_inventories(name='input_dataset',\n",
    "                                        value='california_housing_prices/test_housing.csv')\n",
    "    input_generator.add_ait_inventories(name='trained_model',\n",
    "                                        value='models/best_model.pth')\n",
    "    input_generator.set_ait_params(\"data_type\", \"table\")\n",
    "    input_generator.set_ait_params(\"delta_upper\", \"1\")\n",
    "    input_generator.set_ait_params(\"delta_increment\", \"0.05\")\n",
    "    input_generator.set_ait_params(\"epsilon\", \"1\")\n",
    "    \n",
    "    input_generator.write()"
   ]
  },
  {
   "cell_type": "markdown",
   "metadata": {
    "deletable": false,
    "editable": false
   },
   "source": [
    "### #7 Initialization"
   ]
  },
  {
   "cell_type": "markdown",
   "metadata": {
    "deletable": false,
    "editable": false
   },
   "source": [
    "[uneditable]"
   ]
  },
  {
   "cell_type": "code",
   "execution_count": 10,
   "metadata": {
    "deletable": false,
    "editable": false
   },
   "outputs": [],
   "source": [
    "logger = get_logger()\n",
    "\n",
    "ait_manifest = AITManifest()\n",
    "ait_input = AITInput(ait_manifest)\n",
    "ait_output = AITOutput(ait_manifest)\n",
    "\n",
    "if is_ait_launch:\n",
    "    # launch from AIT\n",
    "    current_dir = path.dirname(path.abspath(__file__))\n",
    "    path_helper = AITPathHelper(argv=sys.argv, ait_input=ait_input, ait_manifest=ait_manifest, entry_point_dir=current_dir)\n",
    "else:\n",
    "    # launch from jupyter notebook\n",
    "    # ait.input.json make in input_dir\n",
    "    input_dir = '/usr/local/qai/mnt/ip/job_args/1/1'\n",
    "    current_dir = %pwd\n",
    "    path_helper = AITPathHelper(argv=['', input_dir], ait_input=ait_input, ait_manifest=ait_manifest, entry_point_dir=current_dir)\n",
    "\n",
    "ait_input.read_json(path_helper.get_input_file_path())\n",
    "ait_manifest.read_json(path_helper.get_manifest_file_path())\n",
    "\n",
    "### do not edit cell"
   ]
  },
  {
   "cell_type": "markdown",
   "metadata": {
    "deletable": false,
    "editable": false
   },
   "source": [
    "### #8 Function definitions"
   ]
  },
  {
   "cell_type": "markdown",
   "metadata": {
    "deletable": false,
    "editable": false
   },
   "source": [
    "[required]"
   ]
  },
  {
   "cell_type": "code",
   "execution_count": 11,
   "metadata": {},
   "outputs": [],
   "source": [
    "@log(logger)\n",
    "def load_h5_data(h5_filepath,image_dataset_name,label_dataset_name, batch_size=64):\n",
    "    \"\"\"\n",
    "    h5形式のデータセットから入力画像とラベルを取得する\n",
    "    parameter:\n",
    "        h5_filename:ファイルのパス\n",
    "        batch_size:バッチサイズ\n",
    "    return:\n",
    "        images:入力画像データ\n",
    "        labels:ラベルデータ\n",
    "    \n",
    "    \"\"\"\n",
    "    with h5py.File(h5_filepath,'r') as h5_file:\n",
    "        images = h5_file[image_dataset_name][:]\n",
    "        labels = h5_file[label_dataset_name][:]\n",
    "        images = np.array(images)\n",
    "        labels = np.array(labels)\n",
    "\n",
    "    return images ,labels"
   ]
  },
  {
   "cell_type": "code",
   "execution_count": 12,
   "metadata": {},
   "outputs": [],
   "source": [
    "@log(logger)\n",
    "def images_shape(images,channels):\n",
    "    \"\"\"\n",
    "    入力画像の形状が(N,H,W)の場合、(N,Channel,H,W)に変換\n",
    "    parameter:\n",
    "        images:入力画像\n",
    "        channels:チャネル数\n",
    "    return:\n",
    "        images:調整した入力画像\n",
    "    \"\"\"\n",
    "    if len(images.shape) == 3:\n",
    "        images = np.repert(images[:,np.newaxis,:,:],channels,axis=1)\n",
    "    return images"
   ]
  },
  {
   "cell_type": "code",
   "execution_count": 13,
   "metadata": {},
   "outputs": [],
   "source": [
    "@log(logger)\n",
    "def calcurate_robustness(classifier,images,labels,channels,epsilon,delta_lower,delta_upper,delta_increment,norm):\n",
    "    \"\"\"\n",
    "    各クラスごとの違反率が０の最大のδの値を計算\n",
    "    parameter:\n",
    "        classifier:ARTのPyTorchClassifier\n",
    "        images:入力画像データ\n",
    "        labels:ラベルデータ\n",
    "        channels:入力画像のチャネル数\n",
    "        epsilon:許容範囲(ε)\n",
    "        delta_lower:敵対的摂動δの範囲の上限\n",
    "        delta_upper:敵対的摂動δの範囲の下限\n",
    "        delta_increment:敵対的摂動δの増加量\n",
    "        norm:使用する距離尺度\n",
    "    return:\n",
    "        class_robustness:各クラスごとの評価値の辞書\n",
    "        violation_rate_list:違反率のリスト\n",
    "    \"\"\"\n",
    "\n",
    "    violation_rate_list =[]\n",
    "\n",
    "    #δの範囲の設定\n",
    "    deltas = np.arange(delta_lower,delta_upper+delta_increment,delta_increment)\n",
    "    class_robustness = {cls:0 for cls in range(classifier.nb_classes)}\n",
    "\n",
    "    for delta in deltas:\n",
    "        \n",
    "        if delta ==0:\n",
    "            #元のデータに対する予測確率\n",
    "            pred_original = classifier.predict(images)\n",
    "            pred_adversarial = pred_original\n",
    "            prob_diff = np.abs(pred_original - pred_adversarial)\n",
    "        else:       \n",
    "            #Square Attackの初期化\n",
    "            square_attack = SquareAttack(estimator = classifier, norm = norm,eps=delta,verbose=False,max_iter=50)\n",
    "            #敵対的データの生成\n",
    "            adv_images= square_attack.generate(x=images)\n",
    "            \n",
    "            #元のデータに対する予測確率\n",
    "            pred_original = classifier.predict(images)\n",
    "            if classifier.nb_classes==2:\n",
    "                pred_original = torch.sigmoid(torch.tensor(pred_original)).numpy()\n",
    "            else:\n",
    "                pred_original = F.softmax(torch.tensor(pred_original),dim=1).numpy()\n",
    "            #敵対的データに対する予測確率\n",
    "            pred_adversarial = classifier.predict(adv_images)\n",
    "            if classifier.nb_classes==2:\n",
    "                pred_adversarial = torch.sigmoid(torch.tensor(pred_adversarial)).numpy()\n",
    "            else:\n",
    "                pred_adversarial = F.softmax(torch.tensor(pred_adversarial),dim=1).numpy()\n",
    "            #元のデータに対する予測確率と敵対的データに対する予測確率の差を計算\n",
    "            prob_diff = np.abs(pred_original - pred_adversarial)\n",
    "            \n",
    "        for cls in range(classifier.nb_classes):\n",
    "            #現在のクラスに対応するデータインデックスの取得\n",
    "            class_idx = np.where(labels == cls)[0]\n",
    "            class_prob_diff = prob_diff[class_idx]\n",
    "            #epsilon=0の時、予測が一致しているかを判断\n",
    "            if epsilon == 0:\n",
    "                if classifier.nb_classes==2:\n",
    "                    pred_original_class = (pred_original[class_idx]>0.5).astype(int)\n",
    "                    pred_adversarial_class = (pred_adversarial[class_idx]>0.5).astype(int)\n",
    "                else:\n",
    "                    pred_original_class = np.argmax(pred_original[class_idx],axis=1)\n",
    "                    pred_adversarial_class = np.argmax(pred_adversarial[class_idx],axis=1)\n",
    "                violations = pred_original_class != pred_adversarial_class\n",
    "            #epsilon!=0のとき、予測確率が許容範囲内かを判断\n",
    "            else:\n",
    "                violations = np.any(class_prob_diff > epsilon,axis=1)\n",
    "            #違反率の保存\n",
    "            violation_rate = np.mean(violations)\n",
    "            violation_rate_list.append(violation_rate)\n",
    "            #違反率が0かつ、一回前のδで更新しているもしくはδの値が下限のとき、δを更新\n",
    "            if violation_rate == 0 and (math.isclose(class_robustness[cls],delta-delta_increment) or delta == delta_lower):\n",
    "                class_robustness[cls] = delta\n",
    "            \n",
    "    #δの相対化\n",
    "    for cls in range(classifier.nb_classes):\n",
    "        if norm == 1:\n",
    "            class_robustness[cls] = class_robustness[cls] /(0.5*channels)\n",
    "        elif norm == 2:\n",
    "            class_robustness[cls] = class_robustness[cls] /np.sqrt(0.5*channels)\n",
    "        else:\n",
    "            class_robustness[cls] = class_robustness[cls] /0.5\n",
    "    return class_robustness,violation_rate_list"
   ]
  },
  {
   "cell_type": "code",
   "execution_count": 14,
   "metadata": {},
   "outputs": [],
   "source": [
    "@log(logger)\n",
    "@resources(ait_output, path_helper, 'Violation_Rate_Transition_Plot')\n",
    "def print_plot(deltas,class_violation_rate_list,cls, file_path: str=None):\n",
    "    \"\"\"\n",
    "    プロットを表示する関数\n",
    "    parameter:\n",
    "        deltas:敵対的摂動δのリスト\n",
    "        class_violation_rate_list:クラスごとの違反率のリスト\n",
    "        cls:クラスラベル（クラスのインデックス値）\n",
    "    \"\"\"\n",
    "    file_name = \"class\"+str(cls)+\"_Violation_Rate_Transition_Plot.png\"\n",
    "    file_path = file_path+file_name\n",
    "    plt.figure(figsize=(8,6))\n",
    "    plt.plot(deltas,class_violation_rate_list,marker='o',linestyle='-',color='b')\n",
    "    plt.title(f\"class{cls} :Violation Rate Transition\")\n",
    "    plt.xlabel(\"delta\")\n",
    "    plt.ylabel(\"Violation Rate\")\n",
    "    plt.grid(True)\n",
    "    plt.savefig(file_path)\n",
    "    plt.show()\n",
    "    \n",
    "    return file_path"
   ]
  },
  {
   "cell_type": "code",
   "execution_count": 15,
   "metadata": {},
   "outputs": [],
   "source": [
    "@log(logger)\n",
    "@measures(ait_output, 'Adversarial_Robustness', is_many=True)\n",
    "def Robustness_list(class_robustness,classifier):\n",
    "    \"\"\"\n",
    "    各クラスごとの評価値の辞書から評価値の配列を生成\n",
    "    parameter:\n",
    "        class_robustness:各クラスごとの評価値の辞書\n",
    "        num_class:クラスラベルの数\n",
    "    \"\"\"\n",
    "    Adversarial_Robsutness_list = []\n",
    "    for cls in range(classifier.nb_classes):\n",
    "        Adversarial_Robsutness_list.append(class_robustness[cls])\n",
    "    return np.array(Adversarial_Robsutness_list)"
   ]
  },
  {
   "cell_type": "code",
   "execution_count": 16,
   "metadata": {},
   "outputs": [],
   "source": [
    "@log(logger)\n",
    "def calculate_empirical_robustness(features_tensor, labels_tensor, deltas, model, regressor, norm):\n",
    "    \"\"\"\n",
    "    Empirical Robustnessを計算する関数。\n",
    "\n",
    "    Parameters:\n",
    "    features_tensor (torch.Tensor): 特徴量\n",
    "    labels_tensor (torch.Tensor): ラベル（正解値）\n",
    "    deltas (array-like): 摂動の範囲（delta）\n",
    "    model (torch.nn.Module): 訓練済みモデル\n",
    "    regressor (object): 回帰モデル（ARTなどで使用）\n",
    "    norm (int): 使用するノルム（例えば2ノルム）\n",
    "\n",
    "    Returns:\n",
    "    tuple: それぞれのdeltaに対応するrobustnessとepsの値\n",
    "    \"\"\"\n",
    "    robustness_values = []\n",
    "    eps_values = []\n",
    "\n",
    "    # 攻撃前の予測値を最初に計算しておく\n",
    "    adv_x_no_attack = features_tensor.numpy()  # 攻撃なしの特徴量\n",
    "    adv_labels_no_attack = model(torch.tensor(adv_x_no_attack, dtype=torch.float32))  # 攻撃なしでの予測値\n",
    "\n",
    "    # それぞれのdeltaに対するEmpirical Robustnessを計算\n",
    "    for delta in deltas:\n",
    "        # FastGradientMethodの設定\n",
    "        attack = FastGradientMethod(\n",
    "            estimator=regressor,  # 回帰モデル\n",
    "            eps=delta,  # 現在の摂動の大きさ\n",
    "            norm=norm,  # 指定されたノルム\n",
    "        )\n",
    "        # 攻撃を加える\n",
    "        adv_x = attack.generate(x=features_tensor.numpy())  # features_tensor を numpy 配列に変換\n",
    "\n",
    "        # 攻撃後の予測値を計算\n",
    "        adv_labels = model(torch.tensor(adv_x, dtype=torch.float32))\n",
    "\n",
    "        # 攻撃なしの予測値と攻撃後の予測値の差異を計算（Empirical Robustness）\n",
    "        robustness = np.mean(np.abs(adv_labels.detach().numpy() - adv_labels_no_attack.detach().numpy()))\n",
    "        \n",
    "        # 結果をリストに追加\n",
    "        robustness_values.append(robustness)\n",
    "        eps_values.append(delta)\n",
    "\n",
    "        print(f\"Empirical Robustness for eps={delta:.2f}: {robustness_values[-1]:.2f}\")\n",
    "\n",
    "    return robustness_values, eps_values\n"
   ]
  },
  {
   "cell_type": "code",
   "execution_count": 17,
   "metadata": {},
   "outputs": [],
   "source": [
    "@log(logger)\n",
    "@resources(ait_output, path_helper, 'Robustness_Variation_Plot')\n",
    "def plot_robustness(eps_values, robustness_values, file_path: str=None):\n",
    "    \"\"\"\n",
    "    Empirical Robustnessをプロットする関数。\n",
    "\n",
    "    Parameters:\n",
    "    eps_values (list): 各摂動（delta）の値\n",
    "    robustness_values (list): 各摂動に対するEmpirical Robustnessの値\n",
    "    \"\"\"\n",
    "    import matplotlib.pyplot as plt\n",
    "    \n",
    "    plt.figure(figsize=(8, 6))\n",
    "    plt.plot(eps_values, robustness_values, marker='o', linestyle='-', color='b')\n",
    "    file_name = \"Empirical_Robustness_Plot.png\"\n",
    "    file_path = file_path+file_name\n",
    "    plt.xlabel('Eps', fontsize=12)\n",
    "    plt.ylabel('Empirical Robustness', fontsize=12)\n",
    "    plt.title('Empirical Robustness vs. Eps', fontsize=14)\n",
    "    plt.grid(True)\n",
    "    plt.savefig(file_path)\n",
    "    plt.show()"
   ]
  },
  {
   "cell_type": "code",
   "execution_count": 18,
   "metadata": {},
   "outputs": [],
   "source": [
    "@log(logger)\n",
    "@measures(ait_output, 'Adversarial_Robustness', is_many=True)\n",
    "def find_max_eps_within_robustness(eps_values, robustness_values, epsilon):\n",
    "    \"\"\"\n",
    "    Empirical Robustnessがepsilonを超えない最大のepsを探す関数。\n",
    "    \n",
    "    Parameters:\n",
    "    eps_values (list): 各摂動（delta）の値\n",
    "    robustness_values (list): 各摂動に対するEmpirical Robustnessの値\n",
    "    epsilon (float): 許容される最大のEmpirical Robustness\n",
    "    \n",
    "    Returns:\n",
    "    list: robustなeps（許容範囲内最大eps）を格納したリスト\n",
    "    \"\"\"\n",
    "    max_eps = None\n",
    "    max_eps_list = []\n",
    "    for eps, robustness in zip(eps_values, robustness_values):\n",
    "        if robustness <= epsilon:\n",
    "            max_eps = eps\n",
    "    \n",
    "    # 結果を表示\n",
    "    print(f\"許容範囲内最大（Empirical Robustness:{epsilon}）のepsは {max_eps:.2f} です\")\n",
    "    max_eps_list.append(max_eps)\n",
    "        \n",
    "    return np.array(max_eps_list)"
   ]
  },
  {
   "cell_type": "code",
   "execution_count": 19,
   "metadata": {},
   "outputs": [],
   "source": [
    "@log(logger)\n",
    "@downloads(ait_output, path_helper, 'Log', 'ait.log')\n",
    "def move_log(file_path: str=None) -> str:\n",
    "    shutil.move(get_log_path(), file_path)"
   ]
  },
  {
   "cell_type": "markdown",
   "metadata": {
    "deletable": false,
    "editable": false
   },
   "source": [
    "### #9 Main Algorithms"
   ]
  },
  {
   "cell_type": "markdown",
   "metadata": {
    "deletable": false,
    "editable": false
   },
   "source": [
    "[required]"
   ]
  },
  {
   "cell_type": "code",
   "execution_count": 20,
   "metadata": {},
   "outputs": [],
   "source": [
    "@log(logger)\n",
    "@ait_main(ait_output, path_helper, is_ait_launch)\n",
    "\n",
    "def main() -> None:\n",
    "    \n",
    "    #モデルの読み込み\n",
    "    trained_model = ait_input.get_inventory_path('trained_model')\n",
    "    try:\n",
    "        model = torch.jit.load(trained_model)\n",
    "    except Exception as e:\n",
    "        print(e)\n",
    "    model.eval()\n",
    "    \n",
    "    #許容範囲の設定\n",
    "    epsilon=ait_input.get_method_param_value('epsilon')\n",
    "    #敵対的摂動δの範囲の設定\n",
    "    delta_lower=ait_input.get_method_param_value('delta_lower')\n",
    "    delta_upper=ait_input.get_method_param_value('delta_upper')\n",
    "    delta_increment=ait_input.get_method_param_value('delta_increment')\n",
    "    if delta_upper < delta_lower:\n",
    "        raise ValueError(\"delta_upper is smaller than delta_lower\")\n",
    "    else:\n",
    "        deltas = np.arange(delta_lower,delta_upper+delta_increment,delta_increment)\n",
    "    \n",
    "    #normの設定\n",
    "    norm =ait_input.get_method_param_value('norm')\n",
    "    if norm == \"1\":\n",
    "        norm =1\n",
    "    elif norm == \"2\":\n",
    "        norm = 2\n",
    "    elif norm ==\"inf\":\n",
    "        norm = np.inf\n",
    "    else:\n",
    "        raise ValueError(\"norm not found\")\n",
    "            \n",
    "    data_type = ait_input.get_method_param_value('data_type')    \n",
    "    if data_type == 'image':\n",
    "\n",
    "        #データセットの読み込み\n",
    "        h5_filepath = ait_input.get_inventory_path('input_dataset')\n",
    "        image_dataset_name = ait_input.get_method_param_value('image_dataset_name')\n",
    "        label_dataset_name = ait_input.get_method_param_value('label_dataset_name')\n",
    "        images ,labels =load_h5_data(h5_filepath,image_dataset_name,label_dataset_name)\n",
    "        max_value = np.max(images)\n",
    "        min_value = np.min(images)\n",
    "        #チャネル数の読み込み\n",
    "        channels = ait_input.get_method_param_value('dataset_channel')\n",
    "    \n",
    "        #データセットの調整\n",
    "        images = images_shape(images,channels)\n",
    "    \n",
    "        #画像データの形状とラベル数の読み込み\n",
    "        input_shape = images.shape[1:]\n",
    "        num_class = len(np.unique(labels))\n",
    "    \n",
    "        #損失関数の設定\n",
    "        if num_class > 2:\n",
    "            loss_fn = torch.nn.CrossEntropyLoss()\n",
    "        elif num_class == 2:\n",
    "            loss_fn = torch.nn.BCEWithLogitsLoss()\n",
    "        else:\n",
    "            raise ValueError(\"The number of classes is not read\")\n",
    "\n",
    "        #PyTorchClassifierにラップ\n",
    "        classifier = PyTorchClassifier(\n",
    "            model = model,\n",
    "            clip_values = (min_value,max_value),\n",
    "            input_shape = input_shape,\n",
    "            nb_classes = num_class,\n",
    "            loss= loss_fn,\n",
    "            optimizer = None\n",
    "            )\n",
    "\n",
    "        #各クラスごとの評価値と違反率を計算\n",
    "        class_robustness, violation_rate_list = calcurate_robustness(classifier,images,labels,channels,epsilon,delta_lower,delta_upper,delta_increment,norm)\n",
    "        #各クラスごとのモデルのロバストネスの表示\n",
    "        for cls, robustness in class_robustness.items():\n",
    "            if robustness is not None:\n",
    "                print(f\"class{cls}, Adversarial Robustness:{robustness:.2f}\")\n",
    "            else:\n",
    "                print(f\"class{cls}, Adversarial Robustness:0\")\n",
    "        #敵対的摂動δを使ってデータを生成した回数\n",
    "        num_step = len(deltas)\n",
    "        #Adversarial Robustnessの配列の生成\n",
    "        Robustness_list(class_robustness,classifier)\n",
    "        #違反率のリストからクラスごとの違反率を取得し、プロットする\n",
    "        for cls in range(classifier.nb_classes):\n",
    "            step=0\n",
    "            class_violation_rate_list=[]\n",
    "            for step in range(num_step):\n",
    "                class_violation_rate_list.append(violation_rate_list[step*classifier.nb_classes + cls])\n",
    "            print_plot(deltas,class_violation_rate_list,cls)\n",
    "            \n",
    "    else:\n",
    "        # データセットの読み込み・前処理\n",
    "        csv_filepath = ait_input.get_inventory_path('input_dataset')\n",
    "        dataset = pd.read_csv(csv_filepath)\n",
    "\n",
    "        # 特徴量（データセットの最後の列をラベルとする）\n",
    "        features = dataset.iloc[:, :-1].values\n",
    "        labels = dataset.iloc[:, -1].values\n",
    "        # 特徴量とラベルをPyTorchのTensorに変換\n",
    "        features_tensor = torch.tensor(features, dtype=torch.float32)\n",
    "        labels_tensor = torch.tensor(labels, dtype=torch.float32)\n",
    "        # PyTorch Regressorのラップ\n",
    "        loss_fn = nn.MSELoss()  # 回帰用損失関数\n",
    "        input_shape = features_tensor.shape[1:]  # 特徴量の数（入力の形状）\n",
    "\n",
    "        regressor = PyTorchRegressor(model=model, loss=loss_fn, input_shape=input_shape)\n",
    "        \n",
    "        # Empirical Robustnessの計算\n",
    "        robustness_values, eps_values = calculate_empirical_robustness(features_tensor, labels_tensor, deltas, model, regressor, norm)\n",
    "            \n",
    "        # プロット\n",
    "        plot_robustness(eps_values, robustness_values)\n",
    "        \n",
    "        # max_epsをリストに格納\n",
    "        max_eps_list = find_max_eps_within_robustness(eps_values, robustness_values, epsilon)\n",
    "\n",
    "    move_log()\n",
    "    "
   ]
  },
  {
   "cell_type": "markdown",
   "metadata": {
    "deletable": false,
    "editable": false
   },
   "source": [
    "### #10 Entry point"
   ]
  },
  {
   "cell_type": "markdown",
   "metadata": {
    "deletable": false,
    "editable": false
   },
   "source": [
    "[uneditable]"
   ]
  },
  {
   "cell_type": "code",
   "execution_count": 21,
   "metadata": {
    "deletable": false,
    "editable": false
   },
   "outputs": [
    {
     "name": "stderr",
     "output_type": "stream",
     "text": [
      "/usr/local/lib/python3.9/site-packages/torch/nn/modules/loss.py:608: UserWarning: Using a target size (torch.Size([32, 1])) that is different to the input size (torch.Size([32])). This will likely lead to incorrect results due to broadcasting. Please ensure they have the same size.\n",
      "  return F.mse_loss(input, target, reduction=self.reduction)\n",
      "/usr/local/lib/python3.9/site-packages/art/utils.py:563: RuntimeWarning: invalid value encountered in divide\n",
      "  values_tmp = values_tmp * np.where(values_norm, np.minimum(1, eps / values_norm), 0)\n",
      "/usr/local/lib/python3.9/site-packages/torch/nn/modules/loss.py:608: UserWarning: Using a target size (torch.Size([16, 1])) that is different to the input size (torch.Size([16])). This will likely lead to incorrect results due to broadcasting. Please ensure they have the same size.\n",
      "  return F.mse_loss(input, target, reduction=self.reduction)\n"
     ]
    },
    {
     "name": "stdout",
     "output_type": "stream",
     "text": [
      "Empirical Robustness for eps=0.00: 0.00\n",
      "Empirical Robustness for eps=0.05: 0.13\n",
      "Empirical Robustness for eps=0.10: 0.25\n",
      "Empirical Robustness for eps=0.15: 0.36\n",
      "Empirical Robustness for eps=0.20: 0.46\n",
      "Empirical Robustness for eps=0.25: 0.56\n",
      "Empirical Robustness for eps=0.30: 0.65\n",
      "Empirical Robustness for eps=0.35: 0.74\n",
      "Empirical Robustness for eps=0.40: 0.82\n",
      "Empirical Robustness for eps=0.45: 0.90\n",
      "Empirical Robustness for eps=0.50: 0.97\n",
      "Empirical Robustness for eps=0.55: 1.04\n",
      "Empirical Robustness for eps=0.60: 1.10\n",
      "Empirical Robustness for eps=0.65: 1.16\n",
      "Empirical Robustness for eps=0.70: 1.22\n",
      "Empirical Robustness for eps=0.75: 1.27\n",
      "Empirical Robustness for eps=0.80: 1.32\n",
      "Empirical Robustness for eps=0.85: 1.37\n",
      "Empirical Robustness for eps=0.90: 1.41\n",
      "Empirical Robustness for eps=0.95: 1.45\n",
      "Empirical Robustness for eps=1.00: 1.49\n"
     ]
    },
    {
     "data": {
      "image/png": "[encoded data removed]",
      "text/plain": [
       "<Figure size 800x600 with 1 Axes>"
      ]
     },
     "metadata": {},
     "output_type": "display_data"
    },
    {
     "name": "stdout",
     "output_type": "stream",
     "text": [
      "許容範囲内最大（Empirical Robustness:1.0）のepsは 0.50 です\n"
     ]
    }
   ],
   "source": [
    "if __name__ == '__main__':\n",
    "    main()"
   ]
  },
  {
   "cell_type": "markdown",
   "metadata": {
    "deletable": false,
    "editable": false
   },
   "source": [
    "### #11 License"
   ]
  },
  {
   "cell_type": "markdown",
   "metadata": {
    "deletable": false,
    "editable": false
   },
   "source": [
    "[required]"
   ]
  },
  {
   "cell_type": "code",
   "execution_count": 22,
   "metadata": {},
   "outputs": [],
   "source": [
    "## sample ##\n",
    "ait_owner='AIST'\n",
    "ait_creation_year='2024'"
   ]
  },
  {
   "cell_type": "markdown",
   "metadata": {
    "deletable": false,
    "editable": false
   },
   "source": [
    "### #12 Deployment"
   ]
  },
  {
   "cell_type": "markdown",
   "metadata": {
    "deletable": false,
    "editable": false
   },
   "source": [
    "[uneditable] "
   ]
  },
  {
   "cell_type": "code",
   "execution_count": 23,
   "metadata": {
    "deletable": false,
    "editable": false
   },
   "outputs": [],
   "source": [
    "if not is_ait_launch:\n",
    "    from ait_sdk.deploy import prepare_deploy\n",
    "    from ait_sdk.license.license_generator import LicenseGenerator\n",
    "    \n",
    "    current_dir = %pwd\n",
    "    prepare_deploy(ait_sdk_name, current_dir, requirements_path)\n",
    "    \n",
    "    # output License.txt\n",
    "    license_generator = LicenseGenerator()\n",
    "    license_generator.write('../top_dir/LICENSE.txt', ait_creation_year, ait_owner)\n"
   ]
  },
  {
   "cell_type": "code",
   "execution_count": null,
   "metadata": {},
   "outputs": [],
   "source": []
  }
 ],
 "metadata": {
  "celltoolbar": "Edit Metadata",
  "kernelspec": {
   "display_name": "Python 3 (ipykernel)",
   "language": "python",
   "name": "python3"
  },
  "language_info": {
   "codemirror_mode": {
    "name": "ipython",
    "version": 3
   },
   "file_extension": ".py",
   "mimetype": "text/x-python",
   "name": "python",
   "nbconvert_exporter": "python",
   "pygments_lexer": "ipython3",
   "version": "3.9.13"
  },
  "vscode": {
   "interpreter": {
    "hash": "cc00c6a56d87bd8bd7773e730c60ddfdb8804da6b7537df09499efbcf81630f7"
   }
  }
 },
 "nbformat": 4,
 "nbformat_minor": 4
}
